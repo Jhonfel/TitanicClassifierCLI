{
 "cells": [
  {
   "cell_type": "code",
   "execution_count": 3,
   "metadata": {},
   "outputs": [
    {
     "name": "stdout",
     "output_type": "stream",
     "text": [
      "Processing /Users/jhonfelipedelgado/Documents/GitHub/TitanicClassifierCLI\n",
      "  Preparing metadata (setup.py) ... \u001b[?25ldone\n",
      "\u001b[?25hRequirement already satisfied: pandas in /opt/homebrew/Caskroom/miniconda/base/envs/ml_rappi/lib/python3.12/site-packages (from TitanicClassifierCLI==0.1) (2.2.2)\n",
      "Requirement already satisfied: numpy in /opt/homebrew/Caskroom/miniconda/base/envs/ml_rappi/lib/python3.12/site-packages (from TitanicClassifierCLI==0.1) (2.0.0)\n",
      "Requirement already satisfied: scikit-learn in /opt/homebrew/Caskroom/miniconda/base/envs/ml_rappi/lib/python3.12/site-packages (from TitanicClassifierCLI==0.1) (1.5.1)\n",
      "Requirement already satisfied: matplotlib in /opt/homebrew/Caskroom/miniconda/base/envs/ml_rappi/lib/python3.12/site-packages (from TitanicClassifierCLI==0.1) (3.9.1)\n",
      "Requirement already satisfied: seaborn in /opt/homebrew/Caskroom/miniconda/base/envs/ml_rappi/lib/python3.12/site-packages (from TitanicClassifierCLI==0.1) (0.13.2)\n",
      "Requirement already satisfied: contourpy>=1.0.1 in /opt/homebrew/Caskroom/miniconda/base/envs/ml_rappi/lib/python3.12/site-packages (from matplotlib->TitanicClassifierCLI==0.1) (1.2.1)\n",
      "Requirement already satisfied: cycler>=0.10 in /opt/homebrew/Caskroom/miniconda/base/envs/ml_rappi/lib/python3.12/site-packages (from matplotlib->TitanicClassifierCLI==0.1) (0.12.1)\n",
      "Requirement already satisfied: fonttools>=4.22.0 in /opt/homebrew/Caskroom/miniconda/base/envs/ml_rappi/lib/python3.12/site-packages (from matplotlib->TitanicClassifierCLI==0.1) (4.53.1)\n",
      "Requirement already satisfied: kiwisolver>=1.3.1 in /opt/homebrew/Caskroom/miniconda/base/envs/ml_rappi/lib/python3.12/site-packages (from matplotlib->TitanicClassifierCLI==0.1) (1.4.5)\n",
      "Requirement already satisfied: packaging>=20.0 in /opt/homebrew/Caskroom/miniconda/base/envs/ml_rappi/lib/python3.12/site-packages (from matplotlib->TitanicClassifierCLI==0.1) (24.1)\n",
      "Requirement already satisfied: pillow>=8 in /opt/homebrew/Caskroom/miniconda/base/envs/ml_rappi/lib/python3.12/site-packages (from matplotlib->TitanicClassifierCLI==0.1) (10.4.0)\n",
      "Requirement already satisfied: pyparsing>=2.3.1 in /opt/homebrew/Caskroom/miniconda/base/envs/ml_rappi/lib/python3.12/site-packages (from matplotlib->TitanicClassifierCLI==0.1) (3.1.2)\n",
      "Requirement already satisfied: python-dateutil>=2.7 in /opt/homebrew/Caskroom/miniconda/base/envs/ml_rappi/lib/python3.12/site-packages (from matplotlib->TitanicClassifierCLI==0.1) (2.9.0)\n",
      "Requirement already satisfied: pytz>=2020.1 in /opt/homebrew/Caskroom/miniconda/base/envs/ml_rappi/lib/python3.12/site-packages (from pandas->TitanicClassifierCLI==0.1) (2024.1)\n",
      "Requirement already satisfied: tzdata>=2022.7 in /opt/homebrew/Caskroom/miniconda/base/envs/ml_rappi/lib/python3.12/site-packages (from pandas->TitanicClassifierCLI==0.1) (2024.1)\n",
      "Requirement already satisfied: scipy>=1.6.0 in /opt/homebrew/Caskroom/miniconda/base/envs/ml_rappi/lib/python3.12/site-packages (from scikit-learn->TitanicClassifierCLI==0.1) (1.14.0)\n",
      "Requirement already satisfied: joblib>=1.2.0 in /opt/homebrew/Caskroom/miniconda/base/envs/ml_rappi/lib/python3.12/site-packages (from scikit-learn->TitanicClassifierCLI==0.1) (1.4.2)\n",
      "Requirement already satisfied: threadpoolctl>=3.1.0 in /opt/homebrew/Caskroom/miniconda/base/envs/ml_rappi/lib/python3.12/site-packages (from scikit-learn->TitanicClassifierCLI==0.1) (3.5.0)\n",
      "Requirement already satisfied: six>=1.5 in /opt/homebrew/Caskroom/miniconda/base/envs/ml_rappi/lib/python3.12/site-packages (from python-dateutil>=2.7->matplotlib->TitanicClassifierCLI==0.1) (1.16.0)\n",
      "Building wheels for collected packages: TitanicClassifierCLI\n",
      "  Building wheel for TitanicClassifierCLI (setup.py) ... \u001b[?25ldone\n",
      "\u001b[?25h  Created wheel for TitanicClassifierCLI: filename=TitanicClassifierCLI-0.1-py3-none-any.whl size=3297 sha256=1360a6ef8cf16599792768e6a153140c8bdfa55e847cd18f2ea2729b5d85cdd6\n",
      "  Stored in directory: /private/var/folders/nq/sjxd17ds5nx468zhywxw26280000gn/T/pip-ephem-wheel-cache-1cfimie3/wheels/dc/b6/73/163d3e9c06513a302b7a1eb166969ed80595417d1b38728dda\n",
      "Successfully built TitanicClassifierCLI\n",
      "Installing collected packages: TitanicClassifierCLI\n",
      "  Attempting uninstall: TitanicClassifierCLI\n",
      "    Found existing installation: TitanicClassifierCLI 0.1\n",
      "    Uninstalling TitanicClassifierCLI-0.1:\n",
      "      Successfully uninstalled TitanicClassifierCLI-0.1\n",
      "Successfully installed TitanicClassifierCLI-0.1\n"
     ]
    }
   ],
   "source": [
    "! pip install ../."
   ]
  },
  {
   "cell_type": "code",
   "execution_count": 4,
   "metadata": {},
   "outputs": [],
   "source": [
    "# Import necessary classes from our package\n",
    "from TitanicClassifierCLI import DataProcessor, ModelTrainer, Evaluator\n",
    "import pandas as pd\n",
    "from sklearn.model_selection import train_test_split"
   ]
  },
  {
   "cell_type": "code",
   "execution_count": 6,
   "metadata": {},
   "outputs": [
    {
     "name": "stdout",
     "output_type": "stream",
     "text": [
      "Loading and preprocessing training data...\n"
     ]
    }
   ],
   "source": [
    "# Load and process the training data\n",
    "print(\"Loading and preprocessing training data...\")\n",
    "data_processor = DataProcessor('../Data/train.csv')\n",
    "data = data_processor.load_data()\n",
    "data_processor.preprocess()"
   ]
  },
  {
   "cell_type": "code",
   "execution_count": 7,
   "metadata": {},
   "outputs": [
    {
     "name": "stdout",
     "output_type": "stream",
     "text": [
      "Separating features and target...\n"
     ]
    }
   ],
   "source": [
    "# Separate features and target\n",
    "print(\"Separating features and target...\")\n",
    "X = data.drop('Survived', axis=1)\n",
    "y = data['Survived']\n"
   ]
  },
  {
   "cell_type": "code",
   "execution_count": 8,
   "metadata": {},
   "outputs": [
    {
     "name": "stdout",
     "output_type": "stream",
     "text": [
      "Splitting data into training and test sets...\n",
      "Training the model...\n"
     ]
    }
   ],
   "source": [
    "# Split data into training and test sets\n",
    "print(\"Splitting data into training and test sets...\")\n",
    "X_train, X_test, y_train, y_test = train_test_split(X, y, test_size=0.2, random_state=42)\n",
    "\n",
    "# Train the model\n",
    "print(\"Training the model...\")\n",
    "model_trainer = ModelTrainer()\n",
    "model_trainer.train(X_train, y_train)\n"
   ]
  },
  {
   "cell_type": "code",
   "execution_count": 9,
   "metadata": {},
   "outputs": [
    {
     "name": "stdout",
     "output_type": "stream",
     "text": [
      "Evaluating the model on test set...\n",
      "Test set results:\n",
      "Accuracy: 0.82\n"
     ]
    }
   ],
   "source": [
    "# Evaluate the model\n",
    "print(\"Evaluating the model on test set...\")\n",
    "evaluator = Evaluator(model_trainer.model)\n",
    "print(\"Test set results:\")\n",
    "evaluator.evaluate(X_test, y_test)\n"
   ]
  },
  {
   "cell_type": "code",
   "execution_count": 11,
   "metadata": {},
   "outputs": [
    {
     "name": "stdout",
     "output_type": "stream",
     "text": [
      "Plotting feature importance...\n"
     ]
    },
    {
     "data": {
      "image/png": "[encoded data removed]",
      "text/plain": [
       "<Figure size 640x480 with 1 Axes>"
      ]
     },
     "metadata": {},
     "output_type": "display_data"
    },
    {
     "name": "stdout",
     "output_type": "stream",
     "text": [
      "Loading and preprocessing test data...\n"
     ]
    }
   ],
   "source": [
    "# Visualize feature importance\n",
    "print(\"Plotting feature importance...\")\n",
    "evaluator.plot_importances(X.columns)\n",
    "\n",
    "# Make predictions on new data\n",
    "print(\"Loading and preprocessing test data...\")\n",
    "data_processor_test = DataProcessor('../Data/test.csv')\n",
    "test_data = data_processor_test.load_data()\n",
    "data_processor_test.preprocess()"
   ]
  },
  {
   "cell_type": "code",
   "execution_count": 12,
   "metadata": {},
   "outputs": [
    {
     "name": "stdout",
     "output_type": "stream",
     "text": [
      "Making predictions on test data...\n",
      "First 10 predictions for the test set:\n",
      "[0 0 0 0 0 0 1 0 0 0]\n",
      "Saving predictions to CSV...\n",
      "Predictions saved to 'submission.csv'\n",
      "Process completed successfully!\n"
     ]
    }
   ],
   "source": [
    "print(\"Making predictions on test data...\")\n",
    "predictions = model_trainer.predict(test_data)\n",
    "print(\"First 10 predictions for the test set:\")\n",
    "print(predictions[:10])\n",
    "\n",
    "# Optional: Save predictions to a CSV file\n",
    "print(\"Saving predictions to CSV...\")\n",
    "submission = pd.DataFrame({'PassengerId': test_data['PassengerId'], 'Survived': predictions})\n",
    "submission.to_csv('submission.csv', index=False)\n",
    "print(\"Predictions saved to 'submission.csv'\")\n",
    "\n",
    "print(\"Process completed successfully!\")"
   ]
  },
  {
   "cell_type": "code",
   "execution_count": null,
   "metadata": {},
   "outputs": [],
   "source": []
  }
 ],
 "metadata": {
  "kernelspec": {
   "display_name": "ml_rappi",
   "language": "python",
   "name": "python3"
  },
  "language_info": {
   "codemirror_mode": {
    "name": "ipython",
    "version": 3
   },
   "file_extension": ".py",
   "mimetype": "text/x-python",
   "name": "python",
   "nbconvert_exporter": "python",
   "pygments_lexer": "ipython3",
   "version": "3.12.4"
  }
 },
 "nbformat": 4,
 "nbformat_minor": 2
}
